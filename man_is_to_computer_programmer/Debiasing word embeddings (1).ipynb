{
 "cells": [
  {
   "cell_type": "markdown",
   "metadata": {},
   "source": [
    "This notebook is based largely on https://github.com/tolga-b/debiaswe/blob/master/tutorial_example1.ipynb and also on Andrew Ngs coursera deep learning specialization - https://www.coursera.org/learn/nlp-sequence-models\n",
    "\n",
    "You can download both w2v_gnews_small.txt and professions.json from Tolgas github repository"
   ]
  },
  {
   "cell_type": "markdown",
   "metadata": {},
   "source": [
    "## Load a Pre-trained Word2Vec Model\n",
    "\n",
    "(using Tolgas smaller version of w2v_gnews)"
   ]
  },
  {
   "cell_type": "code",
   "execution_count": 1,
   "metadata": {},
   "outputs": [],
   "source": [
    "import numpy as np\n",
    "import gensim \n",
    "\n",
    "# load the data\n",
    "#model = gensim.models.KeyedVectors.load_word2vec_format('../../data/GoogleNews-vectors-negative300.bin', binary=True)\n",
    "words = {}\n",
    "with open('w2v_gnews_small.txt','r', encoding='utf8') as f:\n",
    "    for line in f:\n",
    "        s = line.split()\n",
    "        word = s[0].lower()\n",
    "        vector = np.array([float(x) for x in s[1:]])\n",
    "        words[word] = vector"
   ]
  },
  {
   "cell_type": "code",
   "execution_count": 2,
   "metadata": {},
   "outputs": [
    {
     "name": "stdout",
     "output_type": "stream",
     "text": [
      "26423 words\n",
      "300 dimensions\n"
     ]
    }
   ],
   "source": [
    "print(len(words), \"words\")\n",
    "print(len(words['hello']), \"dimensions\")"
   ]
  },
  {
   "cell_type": "markdown",
   "metadata": {},
   "source": [
    "## Similarity"
   ]
  },
  {
   "cell_type": "code",
   "execution_count": 3,
   "metadata": {},
   "outputs": [],
   "source": [
    "# similarity function from AndrewNg\n",
    "def cosine_similarity(u,v):\n",
    "    dot = np.dot(u,v)\n",
    "    norm_u = np.sqrt(np.sum(u*u))\n",
    "    norm_v = np.sqrt(np.sum(v*v))\n",
    "    cosine_similarity = dot / (norm_u*norm_v)\n",
    "    \n",
    "    return cosine_similarity"
   ]
  },
  {
   "cell_type": "markdown",
   "metadata": {},
   "source": [
    "The larger the cosine similarity, the more similar the words are "
   ]
  },
  {
   "cell_type": "code",
   "execution_count": 4,
   "metadata": {},
   "outputs": [
    {
     "data": {
      "text/plain": [
       "0.7901483260108079"
      ]
     },
     "execution_count": 4,
     "metadata": {},
     "output_type": "execute_result"
    }
   ],
   "source": [
    "cosine_similarity(words['father'], words['mother'])"
   ]
  },
  {
   "cell_type": "code",
   "execution_count": 5,
   "metadata": {},
   "outputs": [
    {
     "data": {
      "text/plain": [
       "0.056563999449795864"
      ]
     },
     "execution_count": 5,
     "metadata": {},
     "output_type": "execute_result"
    }
   ],
   "source": [
    "cosine_similarity(words['accountant'], words['volleyball'])"
   ]
  },
  {
   "cell_type": "markdown",
   "metadata": {},
   "source": [
    "## Analogy"
   ]
  },
  {
   "cell_type": "markdown",
   "metadata": {},
   "source": [
    "Complete the analogy \"Man is to King as Woman is to ?\""
   ]
  },
  {
   "cell_type": "code",
   "execution_count": 7,
   "metadata": {},
   "outputs": [],
   "source": [
    "# code from AndrewNg\n",
    "def complete_analogy(a, b, x, model):\n",
    "    e_a = model[a.lower()]\n",
    "    e_b = model[b.lower()]\n",
    "    e_x = model[x.lower()]\n",
    "   \n",
    "    words = model.keys()\n",
    "    max_cosine_sim = -100\n",
    "    best_word = None\n",
    "    \n",
    "    for w in words:\n",
    "        if w in [a, b, x]:\n",
    "            continue\n",
    "        \n",
    "        cosine_sim = cosine_similarity(e_b - e_a, model[w]-e_x)\n",
    "        \n",
    "        if cosine_sim > max_cosine_sim:\n",
    "            max_cosine_sim = cosine_sim\n",
    "            best_word = w\n",
    "            \n",
    "    return best_word"
   ]
  },
  {
   "cell_type": "markdown",
   "metadata": {},
   "source": [
    "Some gender appropriate analogies"
   ]
  },
  {
   "cell_type": "code",
   "execution_count": 8,
   "metadata": {},
   "outputs": [
    {
     "name": "stdout",
     "output_type": "stream",
     "text": [
      "man -> woman :: boy -> girl\n",
      "he -> brother :: she -> sister\n",
      "small -> smaller :: large -> larger\n",
      "man -> king :: woman -> queen\n",
      "he -> prostate_cancer :: she -> ovarian_cancer\n"
     ]
    }
   ],
   "source": [
    "analogies = [('man', 'woman', 'boy'), \n",
    "             ('he', 'brother', 'she'),\n",
    "             ('small', 'smaller', 'large'), \n",
    "             ('man','king','woman'),\n",
    "             ('he','prostate_cancer', 'she')]\n",
    "for analogy in analogies:\n",
    "    print ('{} -> {} :: {} -> {}'.format( *analogy, complete_analogy(*analogy, words)))"
   ]
  },
  {
   "cell_type": "markdown",
   "metadata": {},
   "source": [
    "And some more stereotypical"
   ]
  },
  {
   "cell_type": "code",
   "execution_count": 9,
   "metadata": {},
   "outputs": [
    {
     "name": "stdout",
     "output_type": "stream",
     "text": [
      "he -> doctor :: she -> nurse\n",
      "he -> blue :: she -> pink\n",
      "she -> buns :: he -> sausages\n"
     ]
    }
   ],
   "source": [
    "analogies = [('he', 'doctor', 'she'),               \n",
    "             ('he','blue','she'),\n",
    "             ('she', 'buns', 'he')]\n",
    "for analogy in analogies:\n",
    "    print ('{} -> {} :: {} -> {}'.format( *analogy, complete_analogy(*analogy, words)))"
   ]
  },
  {
   "cell_type": "markdown",
   "metadata": {},
   "source": [
    "# Debiasing word embeddings"
   ]
  },
  {
   "cell_type": "markdown",
   "metadata": {},
   "source": [
    "## 1. Determine gender direction\n",
    "\n",
    "For simplicity we choose the She-He direction, in reality we should take a number of different gender definition pairs and find the Principal Component"
   ]
  },
  {
   "cell_type": "code",
   "execution_count": 10,
   "metadata": {},
   "outputs": [],
   "source": [
    "g = words['she']-words['he']"
   ]
  },
  {
   "cell_type": "markdown",
   "metadata": {},
   "source": [
    "## Bias in words\n",
    "\n",
    "How much bias is there?  The more positive the more female the word is considered."
   ]
  },
  {
   "cell_type": "code",
   "execution_count": 11,
   "metadata": {},
   "outputs": [],
   "source": [
    "def print_barchart(word_dict):\n",
    "    import pandas as pd\n",
    "    df = pd.DataFrame(word_dict)\n",
    "    df.sort_values(by='she_bias', inplace=True)\n",
    "    df['positive'] = df['she_bias']>0\n",
    "    df.plot(kind='barh',x='key', color=[df.positive.map({True: 'r', False: 'b'})])"
   ]
  },
  {
   "cell_type": "code",
   "execution_count": 13,
   "metadata": {},
   "outputs": [],
   "source": [
    "%matplotlib inline"
   ]
  },
  {
   "cell_type": "markdown",
   "metadata": {},
   "source": [
    "Testing with names: Here the bias is expected and wanted"
   ]
  },
  {
   "cell_type": "code",
   "execution_count": 14,
   "metadata": {},
   "outputs": [
    {
     "data": {
      "image/png": "[encoded data removed]",
      "text/plain": [
       "<Figure size 432x288 with 1 Axes>"
      ]
     },
     "metadata": {
      "needs_background": "light"
     },
     "output_type": "display_data"
    }
   ],
   "source": [
    "name_list = ['john', 'mary', 'allison', 'penny']\n",
    "\n",
    "names = [{'key': name, 'she_bias':cosine_similarity(words[name],g)} for name in name_list]\n",
    "print_barchart(names)"
   ]
  },
  {
   "cell_type": "markdown",
   "metadata": {},
   "source": [
    "And some words that should really be gender neutral "
   ]
  },
  {
   "cell_type": "code",
   "execution_count": 15,
   "metadata": {},
   "outputs": [
    {
     "data": {
      "image/png": "[encoded data removed]",
      "text/plain": [
       "<Figure size 432x288 with 1 Axes>"
      ]
     },
     "metadata": {
      "needs_background": "light"
     },
     "output_type": "display_data"
    }
   ],
   "source": [
    "word_list = ['lipstick', 'guns', 'science', 'arts', 'literature', 'warrior','doctor', 'tree', 'receptionist', \n",
    "             'technology',  'fashion', 'teacher', 'engineer', 'pilot', 'computer', 'singer']\n",
    "word_dict = [{'key': w, 'she_bias':cosine_similarity(words[w],g)} for w in word_list]\n",
    "print_barchart(word_dict)"
   ]
  },
  {
   "cell_type": "markdown",
   "metadata": {},
   "source": [
    "And then some professions from Tolgas list of professions"
   ]
  },
  {
   "cell_type": "code",
   "execution_count": 16,
   "metadata": {},
   "outputs": [],
   "source": [
    "import os\n",
    "import json\n",
    "\n",
    "professions_file = 'embedding-info/professions.json'\n",
    "with open(professions_file, 'r') as f:\n",
    "    professions = json.load(f)\n",
    "profession_words = [p[0] for p in professions]"
   ]
  },
  {
   "cell_type": "code",
   "execution_count": 17,
   "metadata": {},
   "outputs": [],
   "source": [
    "profession_dict = [{'key': w, 'she_bias':cosine_similarity(words[w],g)} for w in profession_words]"
   ]
  },
  {
   "cell_type": "code",
   "execution_count": 19,
   "metadata": {},
   "outputs": [],
   "source": [
    "import pandas as pd\n",
    "df = pd.DataFrame(profession_dict)\n",
    "df.sort_values(by='she_bias', inplace=True)"
   ]
  },
  {
   "cell_type": "markdown",
   "metadata": {},
   "source": [
    "The most male professisons"
   ]
  },
  {
   "cell_type": "code",
   "execution_count": 20,
   "metadata": {},
   "outputs": [
    {
     "data": {
      "text/html": [
       "<div>\n",
       "<style scoped>\n",
       "    .dataframe tbody tr th:only-of-type {\n",
       "        vertical-align: middle;\n",
       "    }\n",
       "\n",
       "    .dataframe tbody tr th {\n",
       "        vertical-align: top;\n",
       "    }\n",
       "\n",
       "    .dataframe thead th {\n",
       "        text-align: right;\n",
       "    }\n",
       "</style>\n",
       "<table border=\"1\" class=\"dataframe\">\n",
       "  <thead>\n",
       "    <tr style=\"text-align: right;\">\n",
       "      <th></th>\n",
       "      <th>key</th>\n",
       "      <th>she_bias</th>\n",
       "    </tr>\n",
       "  </thead>\n",
       "  <tbody>\n",
       "    <tr>\n",
       "      <th>174</th>\n",
       "      <td>maestro</td>\n",
       "      <td>-0.237984</td>\n",
       "    </tr>\n",
       "    <tr>\n",
       "      <th>283</th>\n",
       "      <td>statesman</td>\n",
       "      <td>-0.216655</td>\n",
       "    </tr>\n",
       "    <tr>\n",
       "      <th>273</th>\n",
       "      <td>skipper</td>\n",
       "      <td>-0.207587</td>\n",
       "    </tr>\n",
       "    <tr>\n",
       "      <th>241</th>\n",
       "      <td>protege</td>\n",
       "      <td>-0.202672</td>\n",
       "    </tr>\n",
       "    <tr>\n",
       "      <th>46</th>\n",
       "      <td>businessman</td>\n",
       "      <td>-0.202068</td>\n",
       "    </tr>\n",
       "    <tr>\n",
       "      <th>281</th>\n",
       "      <td>sportsman</td>\n",
       "      <td>-0.194924</td>\n",
       "    </tr>\n",
       "    <tr>\n",
       "      <th>215</th>\n",
       "      <td>philosopher</td>\n",
       "      <td>-0.188364</td>\n",
       "    </tr>\n",
       "    <tr>\n",
       "      <th>180</th>\n",
       "      <td>marksman</td>\n",
       "      <td>-0.180737</td>\n",
       "    </tr>\n",
       "    <tr>\n",
       "      <th>54</th>\n",
       "      <td>captain</td>\n",
       "      <td>-0.172899</td>\n",
       "    </tr>\n",
       "    <tr>\n",
       "      <th>16</th>\n",
       "      <td>architect</td>\n",
       "      <td>-0.167856</td>\n",
       "    </tr>\n",
       "  </tbody>\n",
       "</table>\n",
       "</div>"
      ],
      "text/plain": [
       "             key  she_bias\n",
       "174      maestro -0.237984\n",
       "283    statesman -0.216655\n",
       "273      skipper -0.207587\n",
       "241      protege -0.202672\n",
       "46   businessman -0.202068\n",
       "281    sportsman -0.194924\n",
       "215  philosopher -0.188364\n",
       "180     marksman -0.180737\n",
       "54       captain -0.172899\n",
       "16     architect -0.167856"
      ]
     },
     "execution_count": 20,
     "metadata": {},
     "output_type": "execute_result"
    }
   ],
   "source": [
    "df.head(10)"
   ]
  },
  {
   "cell_type": "markdown",
   "metadata": {},
   "source": [
    "And the most female ones"
   ]
  },
  {
   "cell_type": "code",
   "execution_count": 21,
   "metadata": {},
   "outputs": [
    {
     "data": {
      "text/html": [
       "<div>\n",
       "<style scoped>\n",
       "    .dataframe tbody tr th:only-of-type {\n",
       "        vertical-align: middle;\n",
       "    }\n",
       "\n",
       "    .dataframe tbody tr th {\n",
       "        vertical-align: top;\n",
       "    }\n",
       "\n",
       "    .dataframe thead th {\n",
       "        text-align: right;\n",
       "    }\n",
       "</style>\n",
       "<table border=\"1\" class=\"dataframe\">\n",
       "  <thead>\n",
       "    <tr style=\"text-align: right;\">\n",
       "      <th></th>\n",
       "      <th>key</th>\n",
       "      <th>she_bias</th>\n",
       "    </tr>\n",
       "  </thead>\n",
       "  <tbody>\n",
       "    <tr>\n",
       "      <th>274</th>\n",
       "      <td>socialite</td>\n",
       "      <td>0.257188</td>\n",
       "    </tr>\n",
       "    <tr>\n",
       "      <th>170</th>\n",
       "      <td>librarian</td>\n",
       "      <td>0.266471</td>\n",
       "    </tr>\n",
       "    <tr>\n",
       "      <th>252</th>\n",
       "      <td>receptionist</td>\n",
       "      <td>0.273176</td>\n",
       "    </tr>\n",
       "    <tr>\n",
       "      <th>313</th>\n",
       "      <td>waitress</td>\n",
       "      <td>0.275403</td>\n",
       "    </tr>\n",
       "    <tr>\n",
       "      <th>200</th>\n",
       "      <td>nurse</td>\n",
       "      <td>0.280860</td>\n",
       "    </tr>\n",
       "    <tr>\n",
       "      <th>253</th>\n",
       "      <td>registered_nurse</td>\n",
       "      <td>0.304262</td>\n",
       "    </tr>\n",
       "    <tr>\n",
       "      <th>146</th>\n",
       "      <td>homemaker</td>\n",
       "      <td>0.304380</td>\n",
       "    </tr>\n",
       "    <tr>\n",
       "      <th>149</th>\n",
       "      <td>housewife</td>\n",
       "      <td>0.340366</td>\n",
       "    </tr>\n",
       "    <tr>\n",
       "      <th>3</th>\n",
       "      <td>actress</td>\n",
       "      <td>0.352351</td>\n",
       "    </tr>\n",
       "    <tr>\n",
       "      <th>47</th>\n",
       "      <td>businesswoman</td>\n",
       "      <td>0.359654</td>\n",
       "    </tr>\n",
       "  </tbody>\n",
       "</table>\n",
       "</div>"
      ],
      "text/plain": [
       "                  key  she_bias\n",
       "274         socialite  0.257188\n",
       "170         librarian  0.266471\n",
       "252      receptionist  0.273176\n",
       "313          waitress  0.275403\n",
       "200             nurse  0.280860\n",
       "253  registered_nurse  0.304262\n",
       "146         homemaker  0.304380\n",
       "149         housewife  0.340366\n",
       "3             actress  0.352351\n",
       "47      businesswoman  0.359654"
      ]
     },
     "execution_count": 21,
     "metadata": {},
     "output_type": "execute_result"
    }
   ],
   "source": [
    "df.tail(10)"
   ]
  },
  {
   "cell_type": "markdown",
   "metadata": {},
   "source": [
    "## Neutralize"
   ]
  },
  {
   "cell_type": "markdown",
   "metadata": {},
   "source": [
    "$$e^{bias\\_component} = \\frac{e \\cdot g}{||g||_2^2} * g\\tag{2}$$$$e^{debiased} = e - e^{bias\\_component}\\tag{3}$$"
   ]
  },
  {
   "cell_type": "code",
   "execution_count": 22,
   "metadata": {},
   "outputs": [],
   "source": [
    "# Code from AndrewNg\n",
    "def neutralize(word, g, model):\n",
    "    \"\"\"\n",
    "    Remove the bias by projecting the word on the space \n",
    "    orthogonal to the bias vector\n",
    "    \"\"\"\n",
    "    emb = model[word]\n",
    "    emb_bias = np.divide(np.dot(emb, g), np.linalg.norm(g)**2)*g\n",
    "    emb_debiased = emb - emb_bias\n",
    "    return emb_debiased"
   ]
  },
  {
   "cell_type": "code",
   "execution_count": 23,
   "metadata": {},
   "outputs": [
    {
     "name": "stdout",
     "output_type": "stream",
     "text": [
      "receptionist before:  0.2731762944615335\n",
      "receptionist after:  -6.315754838469021e-17\n"
     ]
    }
   ],
   "source": [
    "word = \"receptionist\"\n",
    "print(word, \"before: \", cosine_similarity(words[word],g))\n",
    "debiased_embedding = neutralize(word, g, words)\n",
    "print(word, \"after: \", cosine_similarity(debiased_embedding,g))"
   ]
  },
  {
   "cell_type": "markdown",
   "metadata": {},
   "source": [
    "## Equalize"
   ]
  },
  {
   "cell_type": "markdown",
   "metadata": {},
   "source": [
    "$$ \\mu = \\frac{e_{w1} + e_{w2}}{2}\\tag{1}$$\n",
    "\n",
    "$$ \\mu_{B} = \\frac {\\mu \\cdot \\text{bias_axis}}{||\\text{bias_axis}||_2^2} *\\text{bias_axis}\n",
    "\\tag{2}$$\n",
    "\n",
    "$$\\mu_{\\perp} = \\mu - \\mu_{B} \\tag{3}$$\n",
    "\n",
    "$$ e_{w1B} = \\frac {e_{w1} \\cdot \\text{bias_axis}}{||\\text{bias_axis}||_2^2} *\\text{bias_axis}\n",
    "\\tag{4}$$\n",
    "\n",
    "$$e_{w1B}^{corrected} = \\sqrt{ |{1 - ||\\mu_{\\perp} ||^2_2} |} * \\frac{e_{\\text{w1B}} - \\mu_B} {||(e_{w1B} - \\mu_B)||_2} \\tag{5}$$\n",
    "\n",
    "$$e_1 = e_{w1B}^{corrected} + \\mu_{\\perp} \\tag{6}$$\n"
   ]
  },
  {
   "cell_type": "code",
   "execution_count": 24,
   "metadata": {},
   "outputs": [],
   "source": [
    "# Code from AndrewNg\n",
    "def equalize(pair, g, model):\n",
    "    w1, w2 = pair\n",
    "    e_w1, e_w2 = model[w1], model[w2]\n",
    "    \n",
    "    # (1) find the mid point (mean) \n",
    "    mu = (e_w1 + e_w2)/2\n",
    "    \n",
    "    # (2 + 3) compute the projections of mu over the bias\n",
    "    mu_B = np.divide(np.dot(mu, g), np.linalg.norm(g)**2)*g\n",
    "    mu_orth = mu - mu_B\n",
    "    \n",
    "    # (4) compute e_w1B and e_w2B\n",
    "    e_w1B = np.divide(np.dot(e_w1, g),np.linalg.norm(g)**2)*g\n",
    "    e_w2B = np.divide(np.dot(e_w2, g),np.linalg.norm(g)**2)*g\n",
    "    \n",
    "    # (5) adjust the bias part \n",
    "    corrected_e_w1B = np.sqrt(np.abs(1-np.sum(mu_orth**2)))*np.divide(e_w1B-mu_B, np.abs(e_w1-mu_orth-mu_B))\n",
    "    corrected_e_w2B = np.sqrt(np.abs(1-np.sum(mu_orth**2)))*np.divide(e_w2B-mu_B, np.abs(e_w2-mu_orth-mu_B))\n",
    "\n",
    "    # (6) debias by equalizing e1 and e2 to the sum of their corrected projections\n",
    "    e1 = corrected_e_w1B + mu_orth\n",
    "    e2 = corrected_e_w2B + mu_orth\n",
    "    \n",
    "    return e1,e2"
   ]
  },
  {
   "cell_type": "code",
   "execution_count": 25,
   "metadata": {},
   "outputs": [
    {
     "name": "stdout",
     "output_type": "stream",
     "text": [
      "before\n",
      "man -0.18997453023523314\n",
      "woman 0.32475201469943954\n",
      "after\n",
      "man -0.3275753311187496\n",
      "woman 0.3247739028841863\n"
     ]
    }
   ],
   "source": [
    "print('before')\n",
    "print('man', cosine_similarity(words['man'],g))\n",
    "print('woman', cosine_similarity(words['woman'],g))\n",
    "e1, e2 = equalize((\"man\",\"woman\"), g, words)\n",
    "print('after')\n",
    "print('man', cosine_similarity(e1,g))\n",
    "print('woman', cosine_similarity(e2,g))"
   ]
  },
  {
   "cell_type": "code",
   "execution_count": null,
   "metadata": {},
   "outputs": [],
   "source": []
  }
 ],
 "metadata": {
  "kernelspec": {
   "display_name": "Python 3",
   "language": "python",
   "name": "python3"
  },
  "language_info": {
   "codemirror_mode": {
    "name": "ipython",
    "version": 3
   },
   "file_extension": ".py",
   "mimetype": "text/x-python",
   "name": "python",
   "nbconvert_exporter": "python",
   "pygments_lexer": "ipython3",
   "version": "3.7.2"
  }
 },
 "nbformat": 4,
 "nbformat_minor": 2
}
